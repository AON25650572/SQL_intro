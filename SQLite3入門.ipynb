{
 "cells": [
  {
   "cell_type": "markdown",
   "id": "e6434fab",
   "metadata": {},
   "source": [
    "# SQLite3入門"
   ]
  },
  {
   "cell_type": "markdown",
   "id": "ef3fb833",
   "metadata": {},
   "source": [
    "参考記事\n",
    "- [SQLite3入門](https://www.python.ambitious-engineer.com/archives/745)"
   ]
  },
  {
   "cell_type": "code",
   "execution_count": 1,
   "id": "b3bbb74e",
   "metadata": {},
   "outputs": [],
   "source": [
    "import sqlite3"
   ]
  },
  {
   "cell_type": "code",
   "execution_count": 2,
   "id": "6f5cb28c",
   "metadata": {},
   "outputs": [],
   "source": [
    "db_fname = \"hoge.db\"\n",
    "\n",
    "# データベースに接続\n",
    "conn = sqlite3.connect(db_fname)"
   ]
  },
  {
   "cell_type": "code",
   "execution_count": 3,
   "id": "5ff7ee3d",
   "metadata": {},
   "outputs": [],
   "source": [
    "# カーソルの取得\n",
    "c = conn.cursor()"
   ]
  },
  {
   "cell_type": "code",
   "execution_count": 4,
   "id": "46f9f2f4",
   "metadata": {},
   "outputs": [
    {
     "data": {
      "text/plain": [
       "<sqlite3.Cursor at 0x213547c9f10>"
      ]
     },
     "execution_count": 4,
     "metadata": {},
     "output_type": "execute_result"
    }
   ],
   "source": [
    "# 実行例\n",
    "\n",
    "# テーブルを作成\n",
    "c.execute('CREATE TABLE articles  (id int PRIMARY KEY, title varchar(1024), body text, created datetime)')\n",
    " \n",
    "# Insert実行\n",
    "c.execute(\"INSERT INTO articles VALUES (1,'今朝のおかず','魚を食べました','2020-02-01 00:00:00')\")\n",
    "c.execute(\"INSERT INTO articles VALUES (2,'今日のお昼ごはん','カレーを食べました','2020-02-02 00:00:00')\")\n",
    "c.execute(\"INSERT INTO articles VALUES (3,'今夜の夕食','夕食はハンバーグでした','2020-02-03 00:00:00')\")"
   ]
  },
  {
   "cell_type": "code",
   "execution_count": 5,
   "id": "9bedc8f8",
   "metadata": {},
   "outputs": [],
   "source": [
    "# コミット\n",
    "conn.commit()\n",
    " \n",
    "# コネクションをクローズ\n",
    "# conn.close()"
   ]
  },
  {
   "cell_type": "code",
   "execution_count": 11,
   "id": "fcb6e26d",
   "metadata": {},
   "outputs": [
    {
     "name": "stdout",
     "output_type": "stream",
     "text": [
      "('table', 'articles', 'articles', 2, 'CREATE TABLE articles  (id int, title varchar(1024), body text, created datetime)')\n"
     ]
    }
   ],
   "source": [
    "# テーブル一覧を取得する\n",
    "for row in c.execute(\"select * from sqlite_master where type='table'\"):\n",
    "    print(row)"
   ]
  },
  {
   "cell_type": "code",
   "execution_count": 12,
   "id": "a20ec978",
   "metadata": {},
   "outputs": [],
   "source": [
    "# コネクションをクローズ\n",
    "conn.close()"
   ]
  }
 ],
 "metadata": {
  "kernelspec": {
   "display_name": "Python 3 (ipykernel)",
   "language": "python",
   "name": "python3"
  },
  "language_info": {
   "codemirror_mode": {
    "name": "ipython",
    "version": 3
   },
   "file_extension": ".py",
   "mimetype": "text/x-python",
   "name": "python",
   "nbconvert_exporter": "python",
   "pygments_lexer": "ipython3",
   "version": "3.8.5"
  }
 },
 "nbformat": 4,
 "nbformat_minor": 5
}
